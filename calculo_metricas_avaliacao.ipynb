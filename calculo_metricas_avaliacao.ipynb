{
  "nbformat": 4,
  "nbformat_minor": 0,
  "metadata": {
    "colab": {
      "provenance": [],
      "authorship_tag": "ABX9TyN5iqGwkDn5L4h/KWi5wI9i",
      "include_colab_link": true
    },
    "kernelspec": {
      "name": "python3",
      "display_name": "Python 3"
    },
    "language_info": {
      "name": "python"
    }
  },
  "cells": [
    {
      "cell_type": "markdown",
      "metadata": {
        "id": "view-in-github",
        "colab_type": "text"
      },
      "source": [
        "<a href=\"https://colab.research.google.com/github/Vanderval31bs/metricas-desempenho-dio/blob/main/calculo_metricas_avaliacao.ipynb\" target=\"_parent\"><img src=\"https://colab.research.google.com/assets/colab-badge.svg\" alt=\"Open In Colab\"/></a>"
      ]
    },
    {
      "cell_type": "markdown",
      "source": [
        "In this notebook, we will build functions that compute the main validation metrics in machine learning, which are the accuracy, precision, recall, sensitivity, specificity and f1-score.\n",
        "\n",
        "First, we train a simple model on the MNIST dataset, to have some result on which we will compute our data."
      ],
      "metadata": {
        "id": "owiAyGUHeqJg"
      }
    },
    {
      "cell_type": "code",
      "source": [
        "from tensorflow.keras import datasets, layers, models\n",
        "import matplotlib.pyplot as plt\n",
        "import tensorflow as tf\n",
        "\n",
        "import numpy as np\n",
        "\n",
        "import seaborn as sns\n",
        "\n",
        "import pandas as pd"
      ],
      "metadata": {
        "id": "pCVIdsv_N5PG"
      },
      "execution_count": 2,
      "outputs": []
    },
    {
      "cell_type": "code",
      "source": [
        "%load_ext tensorboard"
      ],
      "metadata": {
        "id": "-ZpNcWCPOWmF"
      },
      "execution_count": 3,
      "outputs": []
    },
    {
      "cell_type": "code",
      "source": [
        "logdir='log'"
      ],
      "metadata": {
        "id": "qQ0IcX56Oafl"
      },
      "execution_count": 4,
      "outputs": []
    },
    {
      "cell_type": "code",
      "source": [
        "(train_images, train_labels), (test_images, test_labels) = datasets.mnist.load_data()"
      ],
      "metadata": {
        "id": "EVjJIaKYOjVk",
        "colab": {
          "base_uri": "https://localhost:8080/"
        },
        "outputId": "2c4dc3df-1cd7-4d11-91b5-e2acc9b31c8a"
      },
      "execution_count": 5,
      "outputs": [
        {
          "output_type": "stream",
          "name": "stdout",
          "text": [
            "Downloading data from https://storage.googleapis.com/tensorflow/tf-keras-datasets/mnist.npz\n",
            "11490434/11490434 [==============================] - 1s 0us/step\n"
          ]
        }
      ]
    },
    {
      "cell_type": "code",
      "source": [
        "train_images = train_images.reshape((60000, 28, 28, 1))\n",
        "test_images = test_images.reshape((10000, 28, 28, 1))\n",
        "\n",
        "train_images, test_images = train_images/255.0, test_images/255.0\n",
        "\n",
        "classes = [0, 1, 2, 3, 4, 5, 6, 7, 8, 9]\n"
      ],
      "metadata": {
        "id": "uWTlIa7ROjP_"
      },
      "execution_count": 6,
      "outputs": []
    },
    {
      "cell_type": "code",
      "source": [
        "model = models.Sequential()\n",
        "model.add(layers.Conv2D(32, (3, 3), activation=\"relu\",  input_shape=(28, 28, 1)))\n",
        "model.add(layers.MaxPooling2D((2,2)))\n",
        "model.add(layers.Conv2D(64, (3, 3), activation=\"relu\"))\n",
        "model.add(layers.MaxPooling2D((2,2)))\n",
        "model.add(layers.Conv2D(64, (3, 3), activation=\"relu\"))\n",
        "\n",
        "model.add(layers.Flatten())\n",
        "model.add(layers.Dense(64, activation=\"relu\"))\n",
        "model.add(layers.Dense(10, activation=\"softmax\"))"
      ],
      "metadata": {
        "id": "_Xb_HHoUPOad"
      },
      "execution_count": 7,
      "outputs": []
    },
    {
      "cell_type": "code",
      "source": [
        "tensorboard_callback = tf.keras.callbacks.TensorBoard(logdir, histogram_freq=1)"
      ],
      "metadata": {
        "id": "hJDkTUHkP7XN"
      },
      "execution_count": 8,
      "outputs": []
    },
    {
      "cell_type": "code",
      "source": [
        "model.compile(optimizer=\"adam\", loss=\"sparse_categorical_crossentropy\", metrics=[\"accuracy\"])\n",
        "model.fit(x=train_images, y=train_labels, epochs=5, validation_data=(test_images, test_labels))"
      ],
      "metadata": {
        "colab": {
          "base_uri": "https://localhost:8080/"
        },
        "id": "uO6npFZOQH0M",
        "outputId": "e0ca5573-a417-4e7f-8a19-d96fc0bcf5c4"
      },
      "execution_count": 9,
      "outputs": [
        {
          "output_type": "stream",
          "name": "stdout",
          "text": [
            "Epoch 1/5\n",
            "1875/1875 [==============================] - 77s 40ms/step - loss: 0.1348 - accuracy: 0.9578 - val_loss: 0.0441 - val_accuracy: 0.9854\n",
            "Epoch 2/5\n",
            "1875/1875 [==============================] - 56s 30ms/step - loss: 0.0453 - accuracy: 0.9857 - val_loss: 0.0357 - val_accuracy: 0.9887\n",
            "Epoch 3/5\n",
            "1875/1875 [==============================] - 56s 30ms/step - loss: 0.0319 - accuracy: 0.9898 - val_loss: 0.0362 - val_accuracy: 0.9893\n",
            "Epoch 4/5\n",
            "1875/1875 [==============================] - 54s 29ms/step - loss: 0.0248 - accuracy: 0.9922 - val_loss: 0.0259 - val_accuracy: 0.9910\n",
            "Epoch 5/5\n",
            "1875/1875 [==============================] - 55s 29ms/step - loss: 0.0187 - accuracy: 0.9944 - val_loss: 0.0240 - val_accuracy: 0.9926\n"
          ]
        },
        {
          "output_type": "execute_result",
          "data": {
            "text/plain": [
              "<keras.src.callbacks.History at 0x783f3194ff10>"
            ]
          },
          "metadata": {},
          "execution_count": 9
        }
      ]
    },
    {
      "cell_type": "code",
      "source": [
        "y_true=test_labels\n",
        "\n",
        "y_pred_prob=model.predict(test_images)\n",
        "y_pred=np.argmax(y_pred_prob,axis=1)"
      ],
      "metadata": {
        "colab": {
          "base_uri": "https://localhost:8080/"
        },
        "id": "VjCYSytrSBsE",
        "outputId": "812e4da7-cff2-4d4e-d9f8-69eda5078ee8"
      },
      "execution_count": 10,
      "outputs": [
        {
          "output_type": "stream",
          "name": "stdout",
          "text": [
            "313/313 [==============================] - 3s 8ms/step\n"
          ]
        }
      ]
    },
    {
      "cell_type": "markdown",
      "source": [
        "Now, we are going to plot the confusion matrix that we got by applying the model on the test set"
      ],
      "metadata": {
        "id": "0ca-ufdeg05g"
      }
    },
    {
      "cell_type": "code",
      "source": [
        "con_mat = tf.math.confusion_matrix(labels=y_true, predictions=y_pred).numpy()\n",
        "con_mat_norm = np.around(con_mat.astype('float') / con_mat.sum(axis=1)[:, np.newaxis], decimals=2)\n",
        "\n",
        "con_mat_df = pd.DataFrame(con_mat_norm, index = classes, columns = classes)\n",
        "\n",
        "figure = plt.figure(figsize=(8,8))\n",
        "sns.heatmap(con_mat_df, annot=True, cmap=plt.cm.Blues)\n",
        "plt.tight_layout()\n",
        "plt.ylabel(\"True label\")\n",
        "plt.ylabel(\"Predicted label\")\n",
        "plt.show()"
      ],
      "metadata": {
        "colab": {
          "base_uri": "https://localhost:8080/",
          "height": 807
        },
        "id": "ZLYXaNbASbrM",
        "outputId": "293c7c8e-7a70-42df-ef0b-f9f3142528db"
      },
      "execution_count": 11,
      "outputs": [
        {
          "output_type": "display_data",
          "data": {
            "text/plain": [
              "<Figure size 800x800 with 2 Axes>"
            ],
            "image/png": "[encoded data removed]"
          },
          "metadata": {}
        }
      ]
    },
    {
      "cell_type": "markdown",
      "source": [
        "Lets construct the validation metrics functions. The problem of MNIST is a multiclassification problem, so the validation metrics are going to be taken with respect to a specific label, which are called 'index' in the below functions. Also, we pass the confusion matrix in the argument of the functions.\n",
        "\n",
        "We will first construct some help function that return the following quantities:\n",
        "\n",
        "\n",
        "*   vp - true positive;\n",
        "*   fp - false positive;\n",
        "*   fn - false negative;\n",
        "*   vn - true negative;\n",
        "*   N - total number of elements."
      ],
      "metadata": {
        "id": "aZLILcDaT04S"
      }
    },
    {
      "cell_type": "code",
      "source": [
        "def get_vp(matrix, index):\n",
        "  return matrix[index][index]\n",
        "\n",
        "def get_fp(matrix, index):\n",
        "  col_sum = matrix[:, index].sum()\n",
        "  return col_sum - get_vp(matrix,  index)\n",
        "\n",
        "def get_fn(matrix, index):\n",
        "  row_sum = matrix[index].sum()\n",
        "  return row_sum - get_vp(matrix,  index)\n",
        "\n",
        "def get_N(matrix):\n",
        "  return matrix.sum();\n",
        "\n",
        "def get_vn(matrix, index):\n",
        "  matrix_sum = matrix.sum()\n",
        "  return get_N(matrix) - get_fn(matrix, index) - get_fp(matrix, index) - get_vp(matrix, index)"
      ],
      "metadata": {
        "id": "49-lDHdqYnKH"
      },
      "execution_count": 12,
      "outputs": []
    },
    {
      "cell_type": "markdown",
      "source": [
        "Now, we define the functions that compute the validation metrics. The formulas of the metrics are given by:\n",
        "\n",
        "$S := \\text{Sensitivity} = \\frac{vp}{vp + fn}$\n",
        "\n",
        "$Sp := \\text{Specificity} = \\frac{vn}{fp + vn}$\n",
        "\n",
        "$Ac := \\text{Accuracy} = \\frac{vp + vn}{N}$\n",
        "\n",
        "$P := \\text{Precision} = \\frac{vp}{vp + fp}$\n",
        "\n",
        "$Fs := \\text{F-score} = 2 \\cdot \\frac{P \\cdot S}{P + S}$"
      ],
      "metadata": {
        "id": "TjkSZHLgjUq8"
      }
    },
    {
      "cell_type": "code",
      "source": [
        "def get_sensibilidade(matrix, index):\n",
        "  return get_vp(matrix, index) / (get_vp(matrix, index) + get_fn(matrix, index))\n",
        "\n",
        "def get_especificidade(matrix, index):\n",
        "  return get_vn(matrix, index) / (get_fp(matrix, index) + get_vn(matrix, index))\n",
        "\n",
        "def get_accuracy(matrix, index):\n",
        "  return (get_vp(matrix, index) + get_vn(matrix, index))/get_N(matrix)\n",
        "\n",
        "def get_precision(matrix, index):\n",
        "  return get_vp(matrix, index)/(get_vp(matrix, index) + get_fp(matrix, index))\n",
        "\n",
        "def get_f_score(matrix, index):\n",
        "  p = get_precision(matrix, index)\n",
        "  s = get_sensibilidade(matrix, index)\n",
        "  return 2 * (p * s) / (p + s)"
      ],
      "metadata": {
        "id": "5zGaIS6JdOON"
      },
      "execution_count": 13,
      "outputs": []
    },
    {
      "cell_type": "markdown",
      "source": [
        "Lets see some results for the digits 0 and 1:"
      ],
      "metadata": {
        "id": "gOmVdfMCn5O-"
      }
    },
    {
      "cell_type": "code",
      "source": [
        "print(\"get_sensibilidade 0: \", get_sensibilidade(con_mat, 0))\n",
        "print(\"get_especificidade 0: \", get_especificidade(con_mat, 0))\n",
        "print(\"get_accuracy 0: \", get_sensibilidade(con_mat, 0))\n",
        "print(\"get_precision 0: \", get_precision(con_mat, 0))\n",
        "print(\"get_f_score 0: \", get_f_score(con_mat, 0))\n",
        "\n",
        "print(\"--------------------------------------------------\")\n",
        "\n",
        "print(\"get_sensibilidade 1: \", get_sensibilidade(con_mat, 1))\n",
        "print(\"get_especificidade 1: \", get_especificidade(con_mat, 1))\n",
        "print(\"get_accuracy 1: \", get_sensibilidade(con_mat, 1))\n",
        "print(\"get_precision 1: \", get_precision(con_mat, 1))\n",
        "print(\"get_f_score 1: \", get_f_score(con_mat, 1))"
      ],
      "metadata": {
        "colab": {
          "base_uri": "https://localhost:8080/"
        },
        "id": "b19Wp9aad6K8",
        "outputId": "0df73d97-3d0b-4b03-b6ab-47ff210cc84a"
      },
      "execution_count": 14,
      "outputs": [
        {
          "output_type": "stream",
          "name": "stdout",
          "text": [
            "get_sensibilidade 0:  0.9938775510204082\n",
            "get_especificidade 0:  0.9995565410199556\n",
            "get_accuracy 0:  0.9938775510204082\n",
            "get_precision 0:  0.9959100204498977\n",
            "get_f_score 0:  0.9948927477017365\n",
            "--------------------------------------------------\n",
            "get_sensibilidade 1:  1.0\n",
            "get_especificidade 1:  0.9986463620981387\n",
            "get_accuracy 1:  1.0\n",
            "get_precision 1:  0.9895379250217959\n",
            "get_f_score 1:  0.9947414548641542\n"
          ]
        }
      ]
    },
    {
      "cell_type": "markdown",
      "source": [
        "Now, instead of computing the metrics for each label, we compute the mean of the metrics for all lales, with the help of the following function:"
      ],
      "metadata": {
        "id": "n1xcEXiEn_dn"
      }
    },
    {
      "cell_type": "code",
      "source": [
        "def get_metrica_media(matrix, get_metrica):\n",
        "  n = matrix.shape[0]\n",
        "  sum = 0\n",
        "  print(\"n\", n)\n",
        "  for i in range (n):\n",
        "    sum = sum + get_metrica(matrix, i)\n",
        "  return sum/n"
      ],
      "metadata": {
        "id": "-MRoYOpbgOe6"
      },
      "execution_count": 15,
      "outputs": []
    },
    {
      "cell_type": "markdown",
      "source": [
        "Lets see the results:"
      ],
      "metadata": {
        "id": "-83JnmofoLIs"
      }
    },
    {
      "cell_type": "code",
      "source": [
        "print (\"sensibilidade media\", get_metrica_media(con_mat, get_sensibilidade))\n",
        "print (\"especificidade media\", get_metrica_media(con_mat, get_especificidade))\n",
        "print (\"accuracy media\", get_metrica_media(con_mat, get_accuracy))\n",
        "print (\"precision media\", get_metrica_media(con_mat, get_precision))\n",
        "print (\"f-score media\", get_metrica_media(con_mat, get_f_score))"
      ],
      "metadata": {
        "colab": {
          "base_uri": "https://localhost:8080/"
        },
        "id": "ooecyEXmfh1j",
        "outputId": "c875aa85-1fad-4ea2-944f-7a1ec06ebbe0"
      },
      "execution_count": 17,
      "outputs": [
        {
          "output_type": "stream",
          "name": "stdout",
          "text": [
            "n 10\n",
            "sensibilidade media 0.9924963635720812\n",
            "n 10\n",
            "especificidade media 0.9991768360887008\n",
            "n 10\n",
            "accuracy media 0.9985199999999999\n",
            "n 10\n",
            "precision media 0.9926559800199639\n",
            "n 10\n",
            "f-score media 0.99256967842582\n"
          ]
        }
      ]
    }
  ]
}